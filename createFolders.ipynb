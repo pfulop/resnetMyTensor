{
 "cells": [
  {
   "cell_type": "code",
   "execution_count": 56,
   "metadata": {
    "collapsed": true
   },
   "outputs": [],
   "source": [
    "import pandas as pd\n",
    "import os\n",
    "import shutil"
   ]
  },
  {
   "cell_type": "code",
   "execution_count": 57,
   "metadata": {
    "collapsed": true
   },
   "outputs": [],
   "source": [
    "DATA_HOME = '/Users/fulop/Downloads/dogbreedKeras/'\n",
    "OLD_DATA = '/Users/fulop/Downloads/train-2/'"
   ]
  },
  {
   "cell_type": "code",
   "execution_count": 58,
   "metadata": {
    "collapsed": true
   },
   "outputs": [],
   "source": [
    "CSV = DATA_HOME + 'labels.csv'"
   ]
  },
  {
   "cell_type": "code",
   "execution_count": 59,
   "metadata": {},
   "outputs": [],
   "source": [
    "dfile = pd.read_csv(CSV)"
   ]
  },
  {
   "cell_type": "code",
   "execution_count": 60,
   "metadata": {
    "collapsed": true
   },
   "outputs": [],
   "source": [
    "dfile['breed'] = pd.Categorical(dfile['breed'])"
   ]
  },
  {
   "cell_type": "code",
   "execution_count": 61,
   "metadata": {},
   "outputs": [],
   "source": [
    "NEW_DATA_HOME = '/Users/fulop/Downloads/dogbreedKeras/'\n",
    "for sub in ['train/','valid/','sample/train/', 'sample/valid/']:\n",
    "    for breed in dfile.breed.unique():\n",
    "        new_folder = NEW_DATA_HOME + sub + breed\n",
    "        try:\n",
    "            os.stat(new_folder)\n",
    "        except:\n",
    "            os.mkdir(new_folder)"
   ]
  },
  {
   "cell_type": "code",
   "execution_count": 62,
   "metadata": {},
   "outputs": [],
   "source": [
    "for index,row in dfile.iterrows():\n",
    "    name = \"{}.jpg\".format(row['id'])\n",
    "    shutil.copyfile(OLD_DATA+name,NEW_DATA_HOME+'train/'+row['breed']+'/'+name)"
   ]
  },
  {
   "cell_type": "code",
   "execution_count": 64,
   "metadata": {},
   "outputs": [],
   "source": [
    "for file, dirs, files in os.walk(NEW_DATA_HOME+\"train\"):\n",
    "    i = 0\n",
    "    for f in files:\n",
    "        if(i > 2):\n",
    "            break\n",
    "        i+=1\n",
    "        os.rename(file+'/'+f, file.replace('train','valid')+\"/\"+f)"
   ]
  },
  {
   "cell_type": "code",
   "execution_count": 65,
   "metadata": {
    "collapsed": true
   },
   "outputs": [],
   "source": [
    "for file, dirs, files in os.walk(NEW_DATA_HOME+\"train\"):\n",
    "    i = 0\n",
    "    for f in files:\n",
    "        if(i > 2):\n",
    "            break\n",
    "        i+=1\n",
    "        shutil.copyfile(file+'/'+f, file.replace('train','sample/train/')+\"/\"+f)"
   ]
  },
  {
   "cell_type": "code",
   "execution_count": 67,
   "metadata": {},
   "outputs": [],
   "source": [
    "for file, dirs, files in os.walk(NEW_DATA_HOME+\"valid\"):\n",
    "    i = 0\n",
    "    for f in files:\n",
    "        if(i > 1):\n",
    "            break\n",
    "        i+=1\n",
    "        shutil.copyfile(file+'/'+f, file.replace('valid','sample/valid')+\"/\"+f)"
   ]
  },
  {
   "cell_type": "code",
   "execution_count": null,
   "metadata": {
    "collapsed": true
   },
   "outputs": [],
   "source": []
  }
 ],
 "metadata": {
  "kernelspec": {
   "display_name": "Python 3",
   "language": "python",
   "name": "python3"
  },
  "language_info": {
   "codemirror_mode": {
    "name": "ipython",
    "version": 3
   },
   "file_extension": ".py",
   "mimetype": "text/x-python",
   "name": "python",
   "nbconvert_exporter": "python",
   "pygments_lexer": "ipython3",
   "version": "3.6.2"
  }
 },
 "nbformat": 4,
 "nbformat_minor": 2
}
