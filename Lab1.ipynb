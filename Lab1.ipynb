{
 "cells": [
  {
   "cell_type": "code",
   "execution_count": 1,
   "metadata": {},
   "outputs": [],
   "source": [
    "import tensorflow as tf"
   ]
  },
  {
   "cell_type": "code",
   "execution_count": 4,
   "metadata": {},
   "outputs": [],
   "source": [
    "def conv_block(inputs, kernel_size, filters, strides=(2, 2)):\n",
    "    \n",
    "    filters1, filters2, filters3 = filters\n",
    "\n",
    "    x = tf.layers.conv2d(inputs,filters1, (1, 1), strides=strides, padding=\"same\")\n",
    "    x = tf.layers.batch_normalization(x)\n",
    "    x = tf.nn.relu(x)\n",
    "\n",
    "    x = tf.layers.conv2d(x,filters2, kernel_size, strides=strides, padding=\"same\")\n",
    "    x = tf.layers.batch_normalization(x)\n",
    "    x = tf.nn.relu(x)\n",
    "\n",
    "    x = tf.layers.conv2d(x,filters3, (1, 1), strides=strides, padding=\"same\")\n",
    "    x = tf.layers.batch_normalization(x)\n",
    "\n",
    "    shortcut = tf.layers.conv2d(inputs, filters3, (1, 1), strides=strides)\n",
    "    shortcut = tf.layers.batch_normalization(shortcut)\n",
    "\n",
    "    x = tf.concat([x, shortcut])\n",
    "    x = tf.nn.relu(x)\n",
    "    return x"
   ]
  },
  {
   "cell_type": "code",
   "execution_count": 6,
   "metadata": {},
   "outputs": [],
   "source": [
    "def identity_block(inputs, kernel_size, filters):\n",
    "    \n",
    "    filters1, filters2, filters3 = filters\n",
    "    \n",
    "    x = tf.layers.conv2d(inputs,filters1, (1, 1), strides=strides, padding=\"same\")\n",
    "    x = tf.layers.batch_normalization(x)\n",
    "    x = tf.nn.relu(x)\n",
    "\n",
    "    x = tf.layers.conv2d(x,filters2, kernel_size, strides=strides, padding=\"same\")\n",
    "    x = tf.layers.batch_normalization(x)\n",
    "    x = tf.nn.relu(x)\n",
    "\n",
    "    x = tf.layers.conv2d(x,filters3, (1, 1), strides=strides, padding=\"same\")\n",
    "    x = tf.layers.batch_normalization(x)\n",
    "\n",
    "    x = tf.concat([x, inputs])\n",
    "    x = tf.nn.relu(x)\n",
    "    return x"
   ]
  },
  {
   "cell_type": "code",
   "execution_count": 8,
   "metadata": {},
   "outputs": [],
   "source": [
    "def create():\n",
    "    x = tf.placeholder(tf.float32, [None, None, None, None, 3])\n",
    "    x = tf.layers.conv2d(x, 64, 7, padding=\"same\")\n",
    "    x = tf.layers.batch_normalization(x)\n",
    "    x = tf.nn.relu(x)\n",
    "    x = tf.layers.max_pooling2d(x, (3,3), (2,2))\n",
    "    \n",
    "    x = conv_block(x, 3, [64, 64, 256], strides=(1,1))\n",
    "    x = identity_block(x, 3, [64, 64, 256])\n",
    "    x = identity_block(x, 3, [64, 64, 256])\n",
    "    \n",
    "    x = conv_block(x, 3, [128, 128, 512])\n",
    "    for i in range(0,2): x = identity_block(x, 3, [128, 128, 512])\n",
    "    x = conv_block(x, 3, [256, 256, 1024])\n",
    "    for i in range(0,4): x = identity_block(x, 3, [256, 256, 1024])\n",
    "    \n",
    "    \n",
    "    x = conv_block(x, 3, [512, 512, 2048], strides=(1,1))\n",
    "    x = identity_block(x, 3, [512, 512, 2048])\n",
    "    x = identity_block(x, 3, [512, 512, 2048])\n",
    "    \n",
    "    x = tf.layers.average_pooling2d(x,(7, 7))\n",
    "    x = tf.reshape(x, [-1, 7 * 7 * 512])\n",
    "    x = tf.layers.dense(\n",
    "                    x,\n",
    "                    1000,\n",
    "                    activation=tf.nn.softmax,\n",
    "                )\n",
    "    return x"
   ]
  },
  {
   "cell_type": "code",
   "execution_count": null,
   "metadata": {},
   "outputs": [],
   "source": []
  }
 ],
 "metadata": {
  "kernelspec": {
   "display_name": "Python 3",
   "language": "python",
   "name": "python3"
  },
  "language_info": {
   "codemirror_mode": {
    "name": "ipython",
    "version": 3
   },
   "file_extension": ".py",
   "mimetype": "text/x-python",
   "name": "python",
   "nbconvert_exporter": "python",
   "pygments_lexer": "ipython3",
   "version": "3.6.2"
  }
 },
 "nbformat": 4,
 "nbformat_minor": 2
}
